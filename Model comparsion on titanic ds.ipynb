{
 "cells": [
  {
   "cell_type": "code",
   "execution_count": 1,
   "id": "3797b172-4c1b-456c-adb5-6dd6c993f336",
   "metadata": {},
   "outputs": [],
   "source": [
    "import numpy as np\n",
    "import pandas as pd\n",
    "import matplotlib.pyplot as plt"
   ]
  },
  {
   "cell_type": "code",
   "execution_count": 2,
   "id": "5934d0b7-45d0-4c4a-87a2-d060f780d92a",
   "metadata": {},
   "outputs": [],
   "source": [
    "data=pd.read_csv(\"Final_train_data.csv\")\n",
    "test_data=pd.read_csv(\"Final_test_data.csv\")"
   ]
  },
  {
   "cell_type": "code",
   "execution_count": 3,
   "id": "c87ab33d-ef65-4d25-aa6d-89889163256e",
   "metadata": {},
   "outputs": [
    {
     "data": {
      "text/html": [
       "<div>\n",
       "<style scoped>\n",
       "    .dataframe tbody tr th:only-of-type {\n",
       "        vertical-align: middle;\n",
       "    }\n",
       "\n",
       "    .dataframe tbody tr th {\n",
       "        vertical-align: top;\n",
       "    }\n",
       "\n",
       "    .dataframe thead th {\n",
       "        text-align: right;\n",
       "    }\n",
       "</style>\n",
       "<table border=\"1\" class=\"dataframe\">\n",
       "  <thead>\n",
       "    <tr style=\"text-align: right;\">\n",
       "      <th></th>\n",
       "      <th>Travelling Alone</th>\n",
       "      <th>Embarked_C</th>\n",
       "      <th>Embarked_Q</th>\n",
       "      <th>Embarked_S</th>\n",
       "      <th>Pclass_1</th>\n",
       "      <th>Pclass_2</th>\n",
       "      <th>Pclass_3</th>\n",
       "      <th>Age</th>\n",
       "      <th>Fare</th>\n",
       "      <th>relative</th>\n",
       "      <th>Sex_2</th>\n",
       "      <th>Survived</th>\n",
       "    </tr>\n",
       "  </thead>\n",
       "  <tbody>\n",
       "    <tr>\n",
       "      <th>0</th>\n",
       "      <td>0</td>\n",
       "      <td>0</td>\n",
       "      <td>0</td>\n",
       "      <td>1</td>\n",
       "      <td>0</td>\n",
       "      <td>0</td>\n",
       "      <td>1</td>\n",
       "      <td>-0.592481</td>\n",
       "      <td>-0.502445</td>\n",
       "      <td>0.059160</td>\n",
       "      <td>1</td>\n",
       "      <td>0</td>\n",
       "    </tr>\n",
       "    <tr>\n",
       "      <th>1</th>\n",
       "      <td>0</td>\n",
       "      <td>1</td>\n",
       "      <td>0</td>\n",
       "      <td>0</td>\n",
       "      <td>1</td>\n",
       "      <td>0</td>\n",
       "      <td>0</td>\n",
       "      <td>0.638789</td>\n",
       "      <td>0.786845</td>\n",
       "      <td>0.059160</td>\n",
       "      <td>0</td>\n",
       "      <td>1</td>\n",
       "    </tr>\n",
       "    <tr>\n",
       "      <th>2</th>\n",
       "      <td>1</td>\n",
       "      <td>0</td>\n",
       "      <td>0</td>\n",
       "      <td>1</td>\n",
       "      <td>0</td>\n",
       "      <td>0</td>\n",
       "      <td>1</td>\n",
       "      <td>-0.284663</td>\n",
       "      <td>-0.488854</td>\n",
       "      <td>-0.560975</td>\n",
       "      <td>0</td>\n",
       "      <td>1</td>\n",
       "    </tr>\n",
       "    <tr>\n",
       "      <th>3</th>\n",
       "      <td>0</td>\n",
       "      <td>0</td>\n",
       "      <td>0</td>\n",
       "      <td>1</td>\n",
       "      <td>1</td>\n",
       "      <td>0</td>\n",
       "      <td>0</td>\n",
       "      <td>0.407926</td>\n",
       "      <td>0.420730</td>\n",
       "      <td>0.059160</td>\n",
       "      <td>0</td>\n",
       "      <td>1</td>\n",
       "    </tr>\n",
       "    <tr>\n",
       "      <th>4</th>\n",
       "      <td>1</td>\n",
       "      <td>0</td>\n",
       "      <td>0</td>\n",
       "      <td>1</td>\n",
       "      <td>0</td>\n",
       "      <td>0</td>\n",
       "      <td>1</td>\n",
       "      <td>0.407926</td>\n",
       "      <td>-0.486337</td>\n",
       "      <td>-0.560975</td>\n",
       "      <td>1</td>\n",
       "      <td>0</td>\n",
       "    </tr>\n",
       "  </tbody>\n",
       "</table>\n",
       "</div>"
      ],
      "text/plain": [
       "   Travelling Alone  Embarked_C  Embarked_Q  Embarked_S  Pclass_1  Pclass_2  \\\n",
       "0                 0           0           0           1         0         0   \n",
       "1                 0           1           0           0         1         0   \n",
       "2                 1           0           0           1         0         0   \n",
       "3                 0           0           0           1         1         0   \n",
       "4                 1           0           0           1         0         0   \n",
       "\n",
       "   Pclass_3       Age      Fare  relative  Sex_2  Survived  \n",
       "0         1 -0.592481 -0.502445  0.059160      1         0  \n",
       "1         0  0.638789  0.786845  0.059160      0         1  \n",
       "2         1 -0.284663 -0.488854 -0.560975      0         1  \n",
       "3         0  0.407926  0.420730  0.059160      0         1  \n",
       "4         1  0.407926 -0.486337 -0.560975      1         0  "
      ]
     },
     "execution_count": 3,
     "metadata": {},
     "output_type": "execute_result"
    }
   ],
   "source": [
    "data.head()"
   ]
  },
  {
   "cell_type": "code",
   "execution_count": 4,
   "id": "21e3460d-dca7-48c2-a646-37f3a479bb33",
   "metadata": {},
   "outputs": [],
   "source": [
    "X_train=data.drop(\"Survived\",axis=1)\n",
    "Y_train=data[\"Survived\"]"
   ]
  },
  {
   "cell_type": "code",
   "execution_count": 5,
   "id": "4c9c3874-a64d-4b18-80fc-970b30b427d3",
   "metadata": {},
   "outputs": [],
   "source": [
    "X_test=test_data.drop(\"Survived\",axis=1)\n",
    "Y_test=test_data[\"Survived\"]"
   ]
  },
  {
   "cell_type": "code",
   "execution_count": 20,
   "id": "d6e7736b-45f2-4ff8-8e32-cadb5683eb77",
   "metadata": {},
   "outputs": [],
   "source": [
    "Accuracy_record={}"
   ]
  },
  {
   "cell_type": "code",
   "execution_count": null,
   "id": "fd799426-3d7d-462c-b5fa-dbe5b49e2ab6",
   "metadata": {},
   "outputs": [],
   "source": []
  },
  {
   "cell_type": "code",
   "execution_count": 7,
   "id": "9b0c6eb1-8494-45cf-85d9-3b266702bc03",
   "metadata": {},
   "outputs": [],
   "source": [
    "from sklearn.metrics import accuracy_score,classification_report"
   ]
  },
  {
   "cell_type": "markdown",
   "id": "ab06e6d3-ce63-40f3-b7be-a92b1b9f3af4",
   "metadata": {},
   "source": [
    "### Applying Logistic Regression"
   ]
  },
  {
   "cell_type": "code",
   "execution_count": 9,
   "id": "51948373-e72e-405a-b251-724b1d112c60",
   "metadata": {},
   "outputs": [],
   "source": [
    "from sklearn.linear_model import LogisticRegression"
   ]
  },
  {
   "cell_type": "code",
   "execution_count": 10,
   "id": "f30c837a-a3ec-4502-a0ce-b4433db05c0a",
   "metadata": {},
   "outputs": [],
   "source": [
    "lr=LogisticRegression()"
   ]
  },
  {
   "cell_type": "code",
   "execution_count": 11,
   "id": "3cb2f9b8-6ea6-4e2b-9b3c-5b88abce5ed3",
   "metadata": {},
   "outputs": [
    {
     "data": {
      "text/plain": [
       "LogisticRegression()"
      ]
     },
     "execution_count": 11,
     "metadata": {},
     "output_type": "execute_result"
    }
   ],
   "source": [
    "lr.fit(X_train,Y_train)"
   ]
  },
  {
   "cell_type": "code",
   "execution_count": 13,
   "id": "3baae096-ae19-4f64-bc88-f855e4f7d4fd",
   "metadata": {},
   "outputs": [],
   "source": [
    "lr_pred=lr.predict(X_test)"
   ]
  },
  {
   "cell_type": "code",
   "execution_count": 339,
   "id": "44e3fb73-c48e-49b5-8549-baa636fddb4e",
   "metadata": {},
   "outputs": [
    {
     "name": "stdout",
     "output_type": "stream",
     "text": [
      "93.77990430622009\n"
     ]
    }
   ],
   "source": [
    "k=accuracy_score(Y_test,lr_pred)*100\n",
    "print(k)"
   ]
  },
  {
   "cell_type": "code",
   "execution_count": 340,
   "id": "37a4cf61-dded-4107-b59f-de8197e73b06",
   "metadata": {},
   "outputs": [],
   "source": [
    "Accuracy_record[\"LR\"]=k"
   ]
  },
  {
   "cell_type": "code",
   "execution_count": 16,
   "id": "6b2c1c63-938a-44af-b96f-fbeab1e823a1",
   "metadata": {},
   "outputs": [
    {
     "name": "stdout",
     "output_type": "stream",
     "text": [
      "              precision    recall  f1-score   support\n",
      "\n",
      "           0       0.96      0.94      0.95       266\n",
      "           1       0.90      0.93      0.92       152\n",
      "\n",
      "    accuracy                           0.94       418\n",
      "   macro avg       0.93      0.94      0.93       418\n",
      "weighted avg       0.94      0.94      0.94       418\n",
      "\n"
     ]
    }
   ],
   "source": [
    "print(classification_report(Y_test,lr_pred))"
   ]
  },
  {
   "cell_type": "markdown",
   "id": "2c3c6408-9378-440b-8914-2875ea30c748",
   "metadata": {},
   "source": [
    "#### Applying KNN CLassifer"
   ]
  },
  {
   "cell_type": "code",
   "execution_count": 19,
   "id": "26d21d6d-2b68-44d0-b274-1c9a0c850a4e",
   "metadata": {},
   "outputs": [],
   "source": [
    "from sklearn.neighbors import KNeighborsClassifier"
   ]
  },
  {
   "cell_type": "code",
   "execution_count": 50,
   "id": "0490a7ea-5a5e-480f-a9ed-589657ca07ac",
   "metadata": {},
   "outputs": [],
   "source": [
    "accuracy=[]\n",
    "max_n=0\n",
    "max_acc=0\n",
    "knn_pred=[]\n",
    "for i in range(1,20):\n",
    "    knn=KNeighborsClassifier(n_neighbors=i,metric = 'minkowski', p = 1)\n",
    "    knn.fit(X_train,Y_train)\n",
    "    knn_pred=knn.predict(X_test)\n",
    "    z=accuracy_score(Y_test,knn_pred)*100\n",
    "    if(z>max_acc):\n",
    "        max_acc=z\n",
    "        max_n=i\n",
    "    accuracy.append(z)"
   ]
  },
  {
   "cell_type": "code",
   "execution_count": 51,
   "id": "90b2f4c5-e10d-48d6-87b2-b592204f407c",
   "metadata": {},
   "outputs": [
    {
     "name": "stdout",
     "output_type": "stream",
     "text": [
      "85.16746411483254 6\n"
     ]
    }
   ],
   "source": [
    "print(max_acc,max_n)"
   ]
  },
  {
   "cell_type": "code",
   "execution_count": 52,
   "id": "a5c96cf3-e3b8-4d9c-9767-5e4133806695",
   "metadata": {},
   "outputs": [
    {
     "data": {
      "text/plain": [
       "[73.68421052631578,\n",
       " 79.42583732057416,\n",
       " 83.01435406698565,\n",
       " 84.688995215311,\n",
       " 83.73205741626795,\n",
       " 85.16746411483254,\n",
       " 83.97129186602871,\n",
       " 83.97129186602871,\n",
       " 84.21052631578947,\n",
       " 83.73205741626795,\n",
       " 84.21052631578947,\n",
       " 84.21052631578947,\n",
       " 84.21052631578947,\n",
       " 83.73205741626795,\n",
       " 84.688995215311,\n",
       " 83.73205741626795,\n",
       " 82.77511961722487,\n",
       " 85.16746411483254,\n",
       " 84.21052631578947]"
      ]
     },
     "execution_count": 52,
     "metadata": {},
     "output_type": "execute_result"
    }
   ],
   "source": [
    "accuracy"
   ]
  },
  {
   "cell_type": "code",
   "execution_count": 46,
   "id": "29efb713-e73c-443a-bad3-18eadc56911a",
   "metadata": {},
   "outputs": [],
   "source": [
    "Accuracy_record[\"KNN\"]=max_acc"
   ]
  },
  {
   "cell_type": "markdown",
   "id": "d57368f9-b5fe-42da-ac32-3f86353f6d70",
   "metadata": {},
   "source": [
    "### SVM"
   ]
  },
  {
   "cell_type": "code",
   "execution_count": 90,
   "id": "84296b52-368d-4e1e-8ac4-8e80906375ac",
   "metadata": {},
   "outputs": [],
   "source": [
    "from sklearn.svm import LinearSVC\n",
    "from sklearn.svm import SVC\n"
   ]
  },
  {
   "cell_type": "code",
   "execution_count": 99,
   "id": "3f9a2522-533d-43d1-a4bc-3402bb4f553f",
   "metadata": {},
   "outputs": [],
   "source": [
    "svm=SVC(kernel='rbf')"
   ]
  },
  {
   "cell_type": "code",
   "execution_count": 102,
   "id": "0799571f-0f7d-4a1a-bfe2-7ced5fc0b277",
   "metadata": {},
   "outputs": [
    {
     "data": {
      "text/plain": [
       "SVC()"
      ]
     },
     "execution_count": 102,
     "metadata": {},
     "output_type": "execute_result"
    }
   ],
   "source": [
    "svm.fit(X_train,Y_train)"
   ]
  },
  {
   "cell_type": "code",
   "execution_count": 66,
   "id": "c3d86b36-a209-4e56-9527-ca6cf908e539",
   "metadata": {},
   "outputs": [],
   "source": [
    "from sklearn.model_selection import cross_val_score"
   ]
  },
  {
   "cell_type": "code",
   "execution_count": 100,
   "id": "c9eaf983-afab-4ca4-8c69-ea38d48e03fe",
   "metadata": {},
   "outputs": [],
   "source": [
    "scores=cross_val_score(svm,X_train,Y_train,cv=5)"
   ]
  },
  {
   "cell_type": "code",
   "execution_count": 96,
   "id": "89bd743e-c958-4ae3-a323-951995000631",
   "metadata": {},
   "outputs": [
    {
     "data": {
      "text/plain": [
       "array([0.82681564, 0.82022472, 0.79775281, 0.80337079, 0.87078652])"
      ]
     },
     "execution_count": 96,
     "metadata": {},
     "output_type": "execute_result"
    }
   ],
   "source": [
    "scores"
   ]
  },
  {
   "cell_type": "code",
   "execution_count": 104,
   "id": "0f5b7614-a5ee-4b0c-9818-833ba536b2f9",
   "metadata": {},
   "outputs": [
    {
     "data": {
      "text/plain": [
       "93.77990430622009"
      ]
     },
     "execution_count": 104,
     "metadata": {},
     "output_type": "execute_result"
    }
   ],
   "source": [
    "k=svm.score(X_test,Y_test)*100\n",
    "k"
   ]
  },
  {
   "cell_type": "code",
   "execution_count": 105,
   "id": "15fb915e-789f-48bd-8b1e-18a5b3fca75b",
   "metadata": {},
   "outputs": [],
   "source": [
    "Accuracy_record[\"SVM\"]=k"
   ]
  },
  {
   "cell_type": "markdown",
   "id": "3c25c04f-52f0-4b4a-b25b-91a54a15fd41",
   "metadata": {},
   "source": [
    "### Decision Tree"
   ]
  },
  {
   "cell_type": "code",
   "execution_count": 106,
   "id": "5c6e7978-96d7-4b3e-bc1e-0e2f4b99bc75",
   "metadata": {},
   "outputs": [],
   "source": [
    "from sklearn.tree import DecisionTreeClassifier"
   ]
  },
  {
   "cell_type": "code",
   "execution_count": 224,
   "id": "5f1df091-d826-44e4-9d29-3affa07629c7",
   "metadata": {},
   "outputs": [],
   "source": [
    "Dt= DecisionTreeClassifier(max_depth=9,min_samples_leaf=11,max_features=6)"
   ]
  },
  {
   "cell_type": "code",
   "execution_count": 225,
   "id": "f74bfdbf-5f0a-496a-b048-9205ecb2cfba",
   "metadata": {},
   "outputs": [
    {
     "data": {
      "text/plain": [
       "DecisionTreeClassifier(max_depth=9, max_features=6, min_samples_leaf=11)"
      ]
     },
     "execution_count": 225,
     "metadata": {},
     "output_type": "execute_result"
    }
   ],
   "source": [
    "Dt.fit(X_train,Y_train)"
   ]
  },
  {
   "cell_type": "code",
   "execution_count": 226,
   "id": "614ece44-02cc-42b8-b1ac-840a9218ea80",
   "metadata": {},
   "outputs": [],
   "source": [
    "dt_pred=Dt.predict(X_test)"
   ]
  },
  {
   "cell_type": "code",
   "execution_count": 228,
   "id": "394f98ec-09bf-4639-960c-7d7df51170ef",
   "metadata": {},
   "outputs": [
    {
     "data": {
      "text/plain": [
       "91.6267942583732"
      ]
     },
     "execution_count": 228,
     "metadata": {},
     "output_type": "execute_result"
    }
   ],
   "source": [
    "k=accuracy_score(Y_test,dt_pred)*100\n",
    "k"
   ]
  },
  {
   "cell_type": "code",
   "execution_count": 229,
   "id": "808aba28-9616-4a0e-92ab-e4f785dc9c8a",
   "metadata": {},
   "outputs": [],
   "source": [
    "Accuracy_record[\"DT\"]=k"
   ]
  },
  {
   "cell_type": "markdown",
   "id": "ad1e1d78-81f0-4b2f-9993-d6b788603e7a",
   "metadata": {},
   "source": [
    "### Random Forest"
   ]
  },
  {
   "cell_type": "code",
   "execution_count": 230,
   "id": "fba8cb0f-5372-48e4-8034-f0854bfe8a2b",
   "metadata": {},
   "outputs": [],
   "source": [
    "from sklearn.ensemble import RandomForestClassifier"
   ]
  },
  {
   "cell_type": "code",
   "execution_count": 261,
   "id": "ad590f29-ac2e-4a54-a7f8-5f011e755c3a",
   "metadata": {},
   "outputs": [],
   "source": [
    "rf=RandomForestClassifier()\n",
    "parameters = {\n",
    "    \"n_estimators\":[5,10,50,100,250],\n",
    "    \"max_depth\":[2,4,8,16,32,None]\n",
    "    \n",
    "}"
   ]
  },
  {
   "cell_type": "code",
   "execution_count": 267,
   "id": "ee45986e-5c5d-4ca8-8515-880b1d7a4ed7",
   "metadata": {},
   "outputs": [
    {
     "data": {
      "text/plain": [
       "GridSearchCV(cv=5, estimator=RandomForestClassifier(),\n",
       "             param_grid={'max_depth': [2, 4, 8, 16, 32, None],\n",
       "                         'n_estimators': [5, 10, 50, 100, 250]})"
      ]
     },
     "execution_count": 267,
     "metadata": {},
     "output_type": "execute_result"
    }
   ],
   "source": [
    "from sklearn.model_selection import GridSearchCV\n",
    "cv = GridSearchCV(rf,parameters,cv=5)\n",
    "cv.fit(X_train,Y_train.values.ravel())"
   ]
  },
  {
   "cell_type": "code",
   "execution_count": 272,
   "id": "1e172631-bd8a-4fc4-84dc-381fbc15e3c4",
   "metadata": {},
   "outputs": [
    {
     "data": {
      "text/plain": [
       "{'mean_fit_time': array([0.00937996, 0.01216736, 0.05026546, 0.0941484 , 0.23637567,\n",
       "        0.00637989, 0.01116581, 0.05107079, 0.09913049, 0.24692702,\n",
       "        0.00698128, 0.01236677, 0.05505285, 0.1105051 , 0.27287426,\n",
       "        0.00738869, 0.01374784, 0.06342459, 0.11688075, 0.31037693,\n",
       "        0.00757961, 0.013762  , 0.06263223, 0.12186699, 0.30597706,\n",
       "        0.00738029, 0.01336241, 0.06083746, 0.131846  , 0.29981155]),\n",
       " 'std_fit_time': array([0.00099401, 0.00146557, 0.00149305, 0.00079787, 0.00374002,\n",
       "        0.00049073, 0.00040119, 0.00039644, 0.00048509, 0.00135223,\n",
       "        0.00063075, 0.00048871, 0.00039895, 0.00039899, 0.00232753,\n",
       "        0.00048059, 0.00040847, 0.00239689, 0.00246141, 0.02231766,\n",
       "        0.00079789, 0.00039959, 0.00074607, 0.00249007, 0.01686906,\n",
       "        0.00048858, 0.00049019, 0.0006309 , 0.01093269, 0.00780329]),\n",
       " 'mean_score_time': array([0.00299459, 0.00220094, 0.00498028, 0.00897584, 0.02074418,\n",
       "        0.00159769, 0.00199442, 0.00517941, 0.00897665, 0.02134395,\n",
       "        0.00179534, 0.0019949 , 0.00538545, 0.00997319, 0.02253246,\n",
       "        0.00159745, 0.00201097, 0.00658841, 0.01017556, 0.02471895,\n",
       "        0.00199513, 0.00219488, 0.0059916 , 0.01037908, 0.02473025,\n",
       "        0.00179701, 0.00219412, 0.00558491, 0.01117029, 0.02533679]),\n",
       " 'std_score_time': array([8.99532394e-04, 4.11583412e-04, 1.22551788e-05, 1.90734863e-07,\n",
       "        3.99638830e-04, 4.85450893e-04, 1.05982355e-06, 4.02178520e-04,\n",
       "        4.80731322e-06, 4.88524381e-04, 3.98898164e-04, 1.78416128e-07,\n",
       "        4.88577656e-04, 2.43140197e-07, 4.83700567e-04, 4.82451136e-04,\n",
       "        1.48269522e-05, 1.21059488e-03, 3.93130378e-04, 1.15553969e-03,\n",
       "        6.30901844e-04, 3.98994386e-04, 1.32313505e-05, 7.95557507e-04,\n",
       "        1.59750566e-03, 3.99986954e-04, 3.99017362e-04, 4.88577656e-04,\n",
       "        9.78935869e-04, 2.79138694e-03]),\n",
       " 'param_max_depth': masked_array(data=[2, 2, 2, 2, 2, 4, 4, 4, 4, 4, 8, 8, 8, 8, 8, 16, 16,\n",
       "                    16, 16, 16, 32, 32, 32, 32, 32, None, None, None, None,\n",
       "                    None],\n",
       "              mask=[False, False, False, False, False, False, False, False,\n",
       "                    False, False, False, False, False, False, False, False,\n",
       "                    False, False, False, False, False, False, False, False,\n",
       "                    False, False, False, False, False, False],\n",
       "        fill_value='?',\n",
       "             dtype=object),\n",
       " 'param_n_estimators': masked_array(data=[5, 10, 50, 100, 250, 5, 10, 50, 100, 250, 5, 10, 50,\n",
       "                    100, 250, 5, 10, 50, 100, 250, 5, 10, 50, 100, 250, 5,\n",
       "                    10, 50, 100, 250],\n",
       "              mask=[False, False, False, False, False, False, False, False,\n",
       "                    False, False, False, False, False, False, False, False,\n",
       "                    False, False, False, False, False, False, False, False,\n",
       "                    False, False, False, False, False, False],\n",
       "        fill_value='?',\n",
       "             dtype=object),\n",
       " 'params': [{'max_depth': 2, 'n_estimators': 5},\n",
       "  {'max_depth': 2, 'n_estimators': 10},\n",
       "  {'max_depth': 2, 'n_estimators': 50},\n",
       "  {'max_depth': 2, 'n_estimators': 100},\n",
       "  {'max_depth': 2, 'n_estimators': 250},\n",
       "  {'max_depth': 4, 'n_estimators': 5},\n",
       "  {'max_depth': 4, 'n_estimators': 10},\n",
       "  {'max_depth': 4, 'n_estimators': 50},\n",
       "  {'max_depth': 4, 'n_estimators': 100},\n",
       "  {'max_depth': 4, 'n_estimators': 250},\n",
       "  {'max_depth': 8, 'n_estimators': 5},\n",
       "  {'max_depth': 8, 'n_estimators': 10},\n",
       "  {'max_depth': 8, 'n_estimators': 50},\n",
       "  {'max_depth': 8, 'n_estimators': 100},\n",
       "  {'max_depth': 8, 'n_estimators': 250},\n",
       "  {'max_depth': 16, 'n_estimators': 5},\n",
       "  {'max_depth': 16, 'n_estimators': 10},\n",
       "  {'max_depth': 16, 'n_estimators': 50},\n",
       "  {'max_depth': 16, 'n_estimators': 100},\n",
       "  {'max_depth': 16, 'n_estimators': 250},\n",
       "  {'max_depth': 32, 'n_estimators': 5},\n",
       "  {'max_depth': 32, 'n_estimators': 10},\n",
       "  {'max_depth': 32, 'n_estimators': 50},\n",
       "  {'max_depth': 32, 'n_estimators': 100},\n",
       "  {'max_depth': 32, 'n_estimators': 250},\n",
       "  {'max_depth': None, 'n_estimators': 5},\n",
       "  {'max_depth': None, 'n_estimators': 10},\n",
       "  {'max_depth': None, 'n_estimators': 50},\n",
       "  {'max_depth': None, 'n_estimators': 100},\n",
       "  {'max_depth': None, 'n_estimators': 250}],\n",
       " 'split0_test_score': array([0.62011173, 0.69273743, 0.72067039, 0.70949721, 0.70391061,\n",
       "        0.72067039, 0.77094972, 0.73184358, 0.76536313, 0.76536313,\n",
       "        0.78212291, 0.79888268, 0.78212291, 0.77094972, 0.77653631,\n",
       "        0.75977654, 0.78212291, 0.77653631, 0.77653631, 0.75977654,\n",
       "        0.75977654, 0.77653631, 0.79329609, 0.75977654, 0.74860335,\n",
       "        0.76536313, 0.76536313, 0.77094972, 0.75418994, 0.77653631]),\n",
       " 'split1_test_score': array([0.79213483, 0.78651685, 0.80337079, 0.80337079, 0.78651685,\n",
       "        0.78089888, 0.79213483, 0.81460674, 0.8258427 , 0.82022472,\n",
       "        0.79213483, 0.7752809 , 0.79213483, 0.79775281, 0.79775281,\n",
       "        0.76404494, 0.76966292, 0.80898876, 0.80898876, 0.79775281,\n",
       "        0.78089888, 0.78651685, 0.7752809 , 0.76966292, 0.80898876,\n",
       "        0.75280899, 0.78089888, 0.79213483, 0.78089888, 0.80337079]),\n",
       " 'split2_test_score': array([0.74157303, 0.83707865, 0.83146067, 0.83146067, 0.8258427 ,\n",
       "        0.80898876, 0.83146067, 0.85393258, 0.84831461, 0.82022472,\n",
       "        0.84831461, 0.87640449, 0.85393258, 0.86516854, 0.85955056,\n",
       "        0.83707865, 0.8258427 , 0.86516854, 0.84269663, 0.84831461,\n",
       "        0.81460674, 0.88202247, 0.84831461, 0.85393258, 0.85955056,\n",
       "        0.84269663, 0.84269663, 0.86516854, 0.83707865, 0.84831461]),\n",
       " 'split3_test_score': array([0.74157303, 0.74157303, 0.78651685, 0.78089888, 0.78089888,\n",
       "        0.79775281, 0.79775281, 0.79213483, 0.79213483, 0.78089888,\n",
       "        0.81460674, 0.80898876, 0.80898876, 0.81460674, 0.80337079,\n",
       "        0.79775281, 0.79213483, 0.76966292, 0.78089888, 0.76966292,\n",
       "        0.75842697, 0.76966292, 0.7752809 , 0.7752809 , 0.78089888,\n",
       "        0.78651685, 0.79213483, 0.78651685, 0.78089888, 0.78089888]),\n",
       " 'split4_test_score': array([0.81460674, 0.78651685, 0.80337079, 0.78651685, 0.81460674,\n",
       "        0.8258427 , 0.82022472, 0.83707865, 0.84269663, 0.84831461,\n",
       "        0.82022472, 0.83707865, 0.84831461, 0.84269663, 0.85393258,\n",
       "        0.78089888, 0.8258427 , 0.8258427 , 0.83146067, 0.84831461,\n",
       "        0.76966292, 0.83707865, 0.83146067, 0.84269663, 0.83146067,\n",
       "        0.80337079, 0.79775281, 0.83146067, 0.83146067, 0.83146067]),\n",
       " 'mean_test_score': array([0.74199987, 0.76888456, 0.7890779 , 0.78234888, 0.78235516,\n",
       "        0.78683071, 0.80250455, 0.80591928, 0.81487038, 0.80700521,\n",
       "        0.81148076, 0.8193271 , 0.81709874, 0.81823489, 0.81822861,\n",
       "        0.78791036, 0.79912121, 0.80923985, 0.80811625, 0.8047643 ,\n",
       "        0.77667441, 0.81036344, 0.80472663, 0.80026991, 0.80590045,\n",
       "        0.79015128, 0.79576925, 0.80924612, 0.7969054 , 0.80811625]),\n",
       " 'std_test_score': array([0.06729391, 0.04861386, 0.03712417, 0.0404493 , 0.04267158,\n",
       "        0.03617895, 0.0213461 , 0.04249442, 0.03156289, 0.02990512,\n",
       "        0.02314783, 0.03475016, 0.02913225, 0.0330748 , 0.03274306,\n",
       "        0.02801652, 0.02295046, 0.03475512, 0.02638031, 0.03767871,\n",
       "        0.0206125 , 0.0429376 , 0.02993119, 0.03970053, 0.03859853,\n",
       "        0.03148929, 0.02594218, 0.03434191, 0.03207798, 0.02800524]),\n",
       " 'rank_test_score': array([30, 29, 23, 27, 26, 25, 17, 13,  5, 12,  6,  1,  4,  2,  3, 24, 19,\n",
       "         9, 10, 15, 28,  7, 16, 18, 14, 22, 21,  8, 20, 10])}"
      ]
     },
     "execution_count": 272,
     "metadata": {},
     "output_type": "execute_result"
    }
   ],
   "source": [
    "cv.cv_results_"
   ]
  },
  {
   "cell_type": "code",
   "execution_count": 274,
   "id": "b82d0bc2-b123-48e0-9e85-87c5f4f60d7d",
   "metadata": {},
   "outputs": [
    {
     "data": {
      "text/plain": [
       "RandomForestClassifier(max_depth=8, n_estimators=10)"
      ]
     },
     "execution_count": 274,
     "metadata": {},
     "output_type": "execute_result"
    }
   ],
   "source": [
    "cv.best_estimator_"
   ]
  },
  {
   "cell_type": "code",
   "execution_count": 281,
   "id": "3a589497-3474-4ecd-8eb3-9a3c5f26e191",
   "metadata": {},
   "outputs": [
    {
     "data": {
      "text/plain": [
       "0.819327098110602"
      ]
     },
     "execution_count": 281,
     "metadata": {},
     "output_type": "execute_result"
    }
   ],
   "source": [
    "cv.best_score_"
   ]
  },
  {
   "cell_type": "code",
   "execution_count": 276,
   "id": "1bb7749d-15a9-4c63-98f3-40147a77d83d",
   "metadata": {},
   "outputs": [],
   "source": [
    "rft=RandomForestClassifier(max_depth=8,n_estimators=10)"
   ]
  },
  {
   "cell_type": "code",
   "execution_count": 277,
   "id": "6365986a-638f-4ace-9d42-68683824891b",
   "metadata": {},
   "outputs": [
    {
     "data": {
      "text/plain": [
       "RandomForestClassifier(max_depth=8, n_estimators=10)"
      ]
     },
     "execution_count": 277,
     "metadata": {},
     "output_type": "execute_result"
    }
   ],
   "source": [
    "rft.fit(X_train,Y_train)"
   ]
  },
  {
   "cell_type": "code",
   "execution_count": 283,
   "id": "b2b1fcbb-49de-4f30-8ce8-ddd0bcc283d4",
   "metadata": {},
   "outputs": [
    {
     "data": {
      "text/plain": [
       "84.21052631578947"
      ]
     },
     "execution_count": 283,
     "metadata": {},
     "output_type": "execute_result"
    }
   ],
   "source": [
    "k=rft.score(X_test,Y_test)*100\n",
    "k"
   ]
  },
  {
   "cell_type": "code",
   "execution_count": 284,
   "id": "d616e379-9c2f-4963-8a67-d93a65e68f0a",
   "metadata": {},
   "outputs": [],
   "source": [
    "Accuracy_record[\"RFC\"]=k"
   ]
  },
  {
   "cell_type": "code",
   "execution_count": null,
   "id": "461234ea-4269-4253-812e-022674f341eb",
   "metadata": {},
   "outputs": [],
   "source": []
  },
  {
   "cell_type": "markdown",
   "id": "b3c69412-ae8c-4628-a5ec-712849bbeec1",
   "metadata": {},
   "source": [
    "### Plotting and Comparison b/w models"
   ]
  },
  {
   "cell_type": "code",
   "execution_count": 285,
   "id": "c5574fd1-a781-45cd-bd1f-2629012a4657",
   "metadata": {},
   "outputs": [],
   "source": [
    "import seaborn as sns"
   ]
  },
  {
   "cell_type": "code",
   "execution_count": 288,
   "id": "f657c760-c68e-426f-a8c1-94fbf299bb9b",
   "metadata": {},
   "outputs": [],
   "source": [
    "import matplotlib.pyplot as plt"
   ]
  },
  {
   "cell_type": "code",
   "execution_count": 332,
   "id": "0340edfc-fdc4-4bf2-9f42-6f3e439e7f0b",
   "metadata": {},
   "outputs": [],
   "source": [
    "color=[\"Blue\",\"Red\",\"Green\",\"Black\",\"Grey\"]"
   ]
  },
  {
   "cell_type": "code",
   "execution_count": 351,
   "id": "8b3ef79c-5b4d-4d75-acb3-b806a19fa194",
   "metadata": {},
   "outputs": [
    {
     "data": {
      "image/png": "[encoded data removed]",
      "text/plain": [
       "<Figure size 360x360 with 1 Axes>"
      ]
     },
     "metadata": {},
     "output_type": "display_data"
    }
   ],
   "source": [
    "plt.figure(figsize=(5, 5))\n",
    "plt.bar(range(len(Accuracy_record)), values,color=color,edgecolor=\"whit\")\n",
    "plt.xticks(range(len(Accuracy_record)),x,rotation=\"vertical\")\n",
    "plt.show()"
   ]
  },
  {
   "cell_type": "code",
   "execution_count": 347,
   "id": "6e4cac1b-8ba9-4d74-986e-3ee635e6eb5b",
   "metadata": {},
   "outputs": [],
   "source": [
    "x=list(Accuracy_record.keys())"
   ]
  },
  {
   "cell_type": "code",
   "execution_count": 348,
   "id": "53ce2eb1-784a-4d00-be26-82d6a02c8162",
   "metadata": {},
   "outputs": [],
   "source": [
    "values=list(Accuracy_record.values())"
   ]
  },
  {
   "cell_type": "code",
   "execution_count": 349,
   "id": "233ab2a7-1656-47d3-853f-6ffb9b5987a6",
   "metadata": {},
   "outputs": [
    {
     "data": {
      "text/plain": [
       "[85.16746411483254,\n",
       " 93.77990430622009,\n",
       " 91.6267942583732,\n",
       " 84.21052631578947,\n",
       " 93.77990430622009]"
      ]
     },
     "execution_count": 349,
     "metadata": {},
     "output_type": "execute_result"
    }
   ],
   "source": [
    "values"
   ]
  },
  {
   "cell_type": "code",
   "execution_count": 346,
   "id": "3b452f54-12d7-457a-8bf5-2809f6399133",
   "metadata": {},
   "outputs": [],
   "source": [
    "del Accuracy_record[\"Logisic Regression\"]"
   ]
  },
  {
   "cell_type": "code",
   "execution_count": null,
   "id": "e7e91528-7d14-48c8-80a9-a701961247bd",
   "metadata": {},
   "outputs": [],
   "source": []
  }
 ],
 "metadata": {
  "kernelspec": {
   "display_name": "Python 3 (ipykernel)",
   "language": "python",
   "name": "python3"
  },
  "language_info": {
   "codemirror_mode": {
    "name": "ipython",
    "version": 3
   },
   "file_extension": ".py",
   "mimetype": "text/x-python",
   "name": "python",
   "nbconvert_exporter": "python",
   "pygments_lexer": "ipython3",
   "version": "3.9.7"
  }
 },
 "nbformat": 4,
 "nbformat_minor": 5
}
